{
 "cells": [
  {
   "cell_type": "markdown",
   "metadata": {},
   "source": [
    "### Importing Libraries"
   ]
  },
  {
   "cell_type": "code",
   "execution_count": 1,
   "metadata": {},
   "outputs": [],
   "source": [
    "import cv2\n",
    "import dlib\n",
    "import sys\n",
    "import os\n",
    "import face_recognition\n",
    "from FaceRecognitionClass import FaceRecognitionClass\n",
    "# to measure exec time\n",
    "from timeit import default_timer as timer"
   ]
  },
  {
   "cell_type": "markdown",
   "metadata": {},
   "source": [
    "### Dataset"
   ]
  },
  {
   "cell_type": "code",
   "execution_count": 50,
   "metadata": {},
   "outputs": [],
   "source": [
    "# Encode faces from a dataset folder\n",
    "datasetpath = r'C://Users//UZIMA//OneDrive//Desktop//Final Face Recognition Parwaaz//face-recognition//test_dataset'"
   ]
  },
  {
   "cell_type": "markdown",
   "metadata": {},
   "source": [
    "### Reading Dataset -> Getting Facial Encodings of Dataset Images"
   ]
  },
  {
   "cell_type": "code",
   "execution_count": 51,
   "metadata": {},
   "outputs": [
    {
     "name": "stdout",
     "output_type": "stream",
     "text": [
      "93 encoding images found.\n",
      "Encoding images loaded\n",
      "Dataset Encoding Time 121.54673430000003\n"
     ]
    }
   ],
   "source": [
    "start = timer()\n",
    "faceclass = FaceRecognitionClass()\n",
    "faceclass.load_encoding_images(datasetpath)\n",
    "print(\"Dataset Encoding Time\", timer()-start)"
   ]
  },
  {
   "cell_type": "markdown",
   "metadata": {},
   "source": [
    "### Live Input"
   ]
  },
  {
   "cell_type": "code",
   "execution_count": 6,
   "metadata": {},
   "outputs": [],
   "source": [
    "# Load Camera\n",
    "cap = cv2.VideoCapture(0)\n",
    "\n",
    "\n",
    "while True:\n",
    "    ret, frame = cap.read()\n",
    "\n",
    "    # Detect Faces\n",
    "    face_locations, face_names = faceclass.detect_known_faces(frame)\n",
    "    for face_loc, name in zip(face_locations, face_names):\n",
    "        y1, x2, y2, x1 = face_loc[0], face_loc[1], face_loc[2], face_loc[3]\n",
    "\n",
    "        cv2.putText(frame, name,(x1, y1 - 10), cv2.FONT_HERSHEY_DUPLEX, 1, (0, 0, 200), 2)\n",
    "        cv2.rectangle(frame, (x1, y1), (x2, y2), (0, 0, 200), 4)\n",
    "\n",
    "    cv2.imshow('frame', frame)\n",
    "\n",
    "    key = cv2.waitKey(1)\n",
    "    if key == 27:\n",
    "        break\n",
    "\n",
    "cap.release()\n",
    "cv2.destroyAllWindows()"
   ]
  },
  {
   "cell_type": "markdown",
   "metadata": {},
   "source": [
    "### Testing"
   ]
  },
  {
   "cell_type": "code",
   "execution_count": 46,
   "metadata": {},
   "outputs": [],
   "source": [
    "import glob\n",
    "\n",
    "def test_images(test_image_dir, train_img_dir, test_dataset_dir, testor):\n",
    "    \n",
    "    false_positive = 0\n",
    "    false_negative = 0\n",
    "    true_positive = 0\n",
    "    true_negative = 0\n",
    "\n",
    "    test_img = cv2.imread(test_image_dir)\n",
    "    rgb_test_img = cv2.cvtColor(test_img, cv2.COLOR_BGR2RGB)\n",
    "    test_img_encoding = face_recognition.face_encodings(rgb_test_img)[0]\n",
    "\n",
    "    dir_train_image_encodings  = []\n",
    "    train_img_dir = glob.glob(os.path.join(train_img_dir, \"*.*\")) \n",
    "\n",
    "    for i in train_img_dir:\n",
    "        img = cv2.imread(i)\n",
    "        rgb_img = cv2.cvtColor(img, cv2.COLOR_BGR2RGB)\n",
    "        img_encoding = face_recognition.face_encodings(rgb_img)[0]\n",
    "        dir_train_image_encodings.append(img_encoding)\n",
    "\n",
    "    lst = []\n",
    "    for i in dir_train_image_encodings:\n",
    "        result = face_recognition.compare_faces([i], test_img_encoding,  tolerance=0.6)\n",
    "        lst.append(str(result[0]))\n",
    "\n",
    "    # print(lst)\n",
    "\n",
    "    true_positive = lst.count('True')\n",
    "    false_negative = lst.count('False')\n",
    "\n",
    "    image_paths = []\n",
    "    for root, subdirectories, files in os.walk(test_dataset_dir):\n",
    "        # print(subdirectories)\n",
    "        for file in files:\n",
    "            temp = os.path.join(root, file)\n",
    "            if testor not in temp:\n",
    "                image_paths.append(temp)\n",
    "    # print(image_paths)\n",
    "\n",
    "    lst1 = []\n",
    "    testor_image_encodings = []\n",
    "    for i in image_paths:\n",
    "        img = cv2.imread(i)\n",
    "        rgb_img = cv2.cvtColor(img, cv2.COLOR_BGR2RGB)\n",
    "        img_encoding = face_recognition.face_encodings(rgb_img)[0]\n",
    "        testor_image_encodings.append(img_encoding)\n",
    "\n",
    "    for i in testor_image_encodings:\n",
    "        result = face_recognition.compare_faces([i], test_img_encoding,  tolerance=0.6)\n",
    "        lst1.append(str(result[0]))\n",
    "\n",
    "    # print(lst1)\n",
    "    false_positive = lst.count('True')\n",
    "    true_negative = lst1.count('False')\n",
    "\n",
    "    return true_positive,true_negative,false_positive,false_negative, lst, lst1\n"
   ]
  },
  {
   "cell_type": "code",
   "execution_count": 48,
   "metadata": {},
   "outputs": [],
   "source": [
    "def evaluate(tp, tn, fp, fn):\n",
    "    acc = (tp+tn)/(tp+tn+fp+fn)\n",
    "    pres = tp/(tp+fp)\n",
    "    recal = tp/(tp+fn)\n",
    "    print(\"Accuarcy:\",acc)\n",
    "    print(\"Precision:\",pres)\n",
    "    print(\"Recall:\",recal)\n",
    "    return acc, pres, recal"
   ]
  },
  {
   "cell_type": "code",
   "execution_count": 37,
   "metadata": {},
   "outputs": [],
   "source": [
    "test_dataset_path = r'C://Users//UZIMA//OneDrive//Desktop//Final Face Recognition Parwaaz//face-recognition//test_dataset'"
   ]
  },
  {
   "cell_type": "markdown",
   "metadata": {},
   "source": [
    "- Imran Khan"
   ]
  },
  {
   "cell_type": "code",
   "execution_count": 47,
   "metadata": {},
   "outputs": [],
   "source": [
    "test_image = r'C://Users//UZIMA//OneDrive//Desktop//Final Face Recognition Parwaaz//face-recognition//test_dataset//ImranKhan//ImranKhan_1.jpg'\n",
    "train_dir_path = r'C://Users//UZIMA//OneDrive//Desktop//Final Face Recognition Parwaaz//face-recognition//test_dataset//ImranKhan'\n",
    "imrankhan_results = test_images(test_image, train_dir_path, test_dataset_path,\"ImranKhan\")"
   ]
  },
  {
   "cell_type": "code",
   "execution_count": 49,
   "metadata": {},
   "outputs": [
    {
     "name": "stdout",
     "output_type": "stream",
     "text": [
      "True Positives: 7\n",
      "True Negatives: 85\n",
      "False Positives: 7\n",
      "False Negatives: 0\n",
      "Accuarcy: 0.9292929292929293\n",
      "Precision: 0.5\n",
      "Recall: 1.0\n"
     ]
    }
   ],
   "source": [
    "print(\"True Positives:\", imrankhan_results[0])\n",
    "print(\"True Negatives:\", imrankhan_results[1])\n",
    "print(\"False Positives:\", imrankhan_results[2])\n",
    "print(\"False Negatives:\", imrankhan_results[3])\n",
    "\n",
    "imran_score = evaluate(imrankhan_results[0], imrankhan_results[1], imrankhan_results[2], imrankhan_results[3])"
   ]
  },
  {
   "cell_type": "markdown",
   "metadata": {},
   "source": [
    "- Niha Momin"
   ]
  },
  {
   "cell_type": "code",
   "execution_count": 52,
   "metadata": {},
   "outputs": [],
   "source": [
    "test_image = r'C://Users//UZIMA//OneDrive//Desktop//Final Face Recognition Parwaaz//face-recognition//test_dataset//nm05153//nm05153_1.jpg'\n",
    "train_dir_path = r'C://Users//UZIMA//OneDrive//Desktop//Final Face Recognition Parwaaz//face-recognition//test_dataset//nm05153'\n",
    "nm05153_results = test_images(test_image, train_dir_path, test_dataset_path,\"nm05153\")"
   ]
  },
  {
   "cell_type": "code",
   "execution_count": 53,
   "metadata": {},
   "outputs": [
    {
     "name": "stdout",
     "output_type": "stream",
     "text": [
      "True Positives: 10\n",
      "True Negatives: 83\n",
      "False Positives: 10\n",
      "False Negatives: 0\n",
      "Accuarcy: 0.9029126213592233\n",
      "Precision: 0.5\n",
      "Recall: 1.0\n"
     ]
    }
   ],
   "source": [
    "print(\"True Positives:\", nm05153_results[0])\n",
    "print(\"True Negatives:\", nm05153_results[1])\n",
    "print(\"False Positives:\", nm05153_results[2])\n",
    "print(\"False Negatives:\", nm05153_results[3])\n",
    "\n",
    "nm05153_score = evaluate(nm05153_results[0], nm05153_results[1], nm05153_results[2], nm05153_results[3])"
   ]
  },
  {
   "cell_type": "markdown",
   "metadata": {},
   "source": [
    "- Aiman Haq"
   ]
  },
  {
   "cell_type": "code",
   "execution_count": 54,
   "metadata": {},
   "outputs": [],
   "source": [
    "test_image = r'C://Users//UZIMA//OneDrive//Desktop//Final Face Recognition Parwaaz//face-recognition//test_dataset//ah04318//ah04318_1.jpeg'\n",
    "train_dir_path = r'C://Users//UZIMA//OneDrive//Desktop//Final Face Recognition Parwaaz//face-recognition//test_dataset//ah04318'\n",
    "ah04318_results = test_images(test_image, train_dir_path, test_dataset_path,\"ah04318\")"
   ]
  },
  {
   "cell_type": "code",
   "execution_count": 55,
   "metadata": {},
   "outputs": [
    {
     "name": "stdout",
     "output_type": "stream",
     "text": [
      "True Positives: 10\n",
      "True Negatives: 83\n",
      "False Positives: 10\n",
      "False Negatives: 0\n",
      "Accuarcy: 0.9029126213592233\n",
      "Precision: 0.5\n",
      "Recall: 1.0\n"
     ]
    }
   ],
   "source": [
    "print(\"True Positives:\", ah04318_results[0])\n",
    "print(\"True Negatives:\", ah04318_results[1])\n",
    "print(\"False Positives:\", ah04318_results[2])\n",
    "print(\"False Negatives:\", ah04318_results[3])\n",
    "\n",
    "ah04318_score = evaluate(ah04318_results[0], ah04318_results[1], ah04318_results[2], ah04318_results[3])"
   ]
  },
  {
   "cell_type": "markdown",
   "metadata": {},
   "source": [
    "- Benazir Bhutto"
   ]
  },
  {
   "cell_type": "code",
   "execution_count": 56,
   "metadata": {},
   "outputs": [],
   "source": [
    "test_image = r'C://Users//UZIMA//OneDrive//Desktop//Final Face Recognition Parwaaz//face-recognition//test_dataset//BenazirBhutto//BenazirBhutto_1.jpg'\n",
    "train_dir_path = r'C://Users//UZIMA//OneDrive//Desktop//Final Face Recognition Parwaaz//face-recognition//test_dataset//BenazirBhutto'\n",
    "BenazirBhutto_results = test_images(test_image, train_dir_path, test_dataset_path,\"BenazirBhutto\")"
   ]
  },
  {
   "cell_type": "code",
   "execution_count": 57,
   "metadata": {},
   "outputs": [
    {
     "name": "stdout",
     "output_type": "stream",
     "text": [
      "True Positives: 9\n",
      "True Negatives: 83\n",
      "False Positives: 9\n",
      "False Negatives: 1\n",
      "Accuarcy: 0.9019607843137255\n",
      "Precision: 0.5\n",
      "Recall: 0.9\n"
     ]
    }
   ],
   "source": [
    "print(\"True Positives:\", BenazirBhutto_results[0])\n",
    "print(\"True Negatives:\", BenazirBhutto_results[1])\n",
    "print(\"False Positives:\", BenazirBhutto_results[2])\n",
    "print(\"False Negatives:\", BenazirBhutto_results[3])\n",
    "\n",
    "BenazirBhutto_score = evaluate(BenazirBhutto_results[0], BenazirBhutto_results[1], BenazirBhutto_results[2], BenazirBhutto_results[3])"
   ]
  },
  {
   "cell_type": "markdown",
   "metadata": {},
   "source": [
    "- Elon Musk"
   ]
  },
  {
   "cell_type": "code",
   "execution_count": 58,
   "metadata": {},
   "outputs": [],
   "source": [
    "test_image = r'C://Users//UZIMA//OneDrive//Desktop//Final Face Recognition Parwaaz//face-recognition//test_dataset//ElonMusk//ElonMusk_1.jpg'\n",
    "train_dir_path = r'C://Users//UZIMA//OneDrive//Desktop//Final Face Recognition Parwaaz//face-recognition//test_dataset//ElonMusk'\n",
    "ElonMusk_results = test_images(test_image, train_dir_path, test_dataset_path,\"ElonMusk\")"
   ]
  },
  {
   "cell_type": "code",
   "execution_count": 59,
   "metadata": {},
   "outputs": [
    {
     "name": "stdout",
     "output_type": "stream",
     "text": [
      "True Positives: 10\n",
      "True Negatives: 83\n",
      "False Positives: 10\n",
      "False Negatives: 0\n",
      "Accuarcy: 0.9029126213592233\n",
      "Precision: 0.5\n",
      "Recall: 1.0\n"
     ]
    }
   ],
   "source": [
    "print(\"True Positives:\", ElonMusk_results[0])\n",
    "print(\"True Negatives:\", ElonMusk_results[1])\n",
    "print(\"False Positives:\", ElonMusk_results[2])\n",
    "print(\"False Negatives:\", ElonMusk_results[3])\n",
    "\n",
    "ElonMusk_score = evaluate(ElonMusk_results[0], ElonMusk_results[1], ElonMusk_results[2], ElonMusk_results[3])"
   ]
  },
  {
   "cell_type": "markdown",
   "metadata": {},
   "source": [
    "- Hamza Irfan"
   ]
  },
  {
   "cell_type": "code",
   "execution_count": 60,
   "metadata": {},
   "outputs": [],
   "source": [
    "test_image = r'C://Users//UZIMA//OneDrive//Desktop//Final Face Recognition Parwaaz//face-recognition//test_dataset//hi05466//hi05466_1.jpeg'\n",
    "train_dir_path = r'C://Users//UZIMA//OneDrive//Desktop//Final Face Recognition Parwaaz//face-recognition//test_dataset//hi05466'\n",
    "hi05466_results = test_images(test_image, train_dir_path, test_dataset_path,\"hi05466\")"
   ]
  },
  {
   "cell_type": "code",
   "execution_count": 61,
   "metadata": {},
   "outputs": [
    {
     "name": "stdout",
     "output_type": "stream",
     "text": [
      "True Positives: 10\n",
      "True Negatives: 83\n",
      "False Positives: 10\n",
      "False Negatives: 0\n",
      "Accuarcy: 0.9029126213592233\n",
      "Precision: 0.5\n",
      "Recall: 1.0\n"
     ]
    }
   ],
   "source": [
    "print(\"True Positives:\", hi05466_results[0])\n",
    "print(\"True Negatives:\", hi05466_results[1])\n",
    "print(\"False Positives:\", hi05466_results[2])\n",
    "print(\"False Negatives:\", hi05466_results[3])\n",
    "\n",
    "hi05466_score = evaluate(hi05466_results[0], hi05466_results[1], hi05466_results[2], hi05466_results[3])"
   ]
  },
  {
   "cell_type": "markdown",
   "metadata": {},
   "source": [
    "- Junaid Jamshed"
   ]
  },
  {
   "cell_type": "code",
   "execution_count": 62,
   "metadata": {},
   "outputs": [],
   "source": [
    "test_image = r'C://Users//UZIMA//OneDrive//Desktop//Final Face Recognition Parwaaz//face-recognition//test_dataset//JunaidJamshed//JunaidJamshed_1.jpg'\n",
    "train_dir_path = r'C://Users//UZIMA//OneDrive//Desktop//Final Face Recognition Parwaaz//face-recognition//test_dataset//JunaidJamshed'\n",
    "JunaidJamshed_results = test_images(test_image, train_dir_path, test_dataset_path,\"JunaidJamshed\")"
   ]
  },
  {
   "cell_type": "code",
   "execution_count": 63,
   "metadata": {},
   "outputs": [
    {
     "name": "stdout",
     "output_type": "stream",
     "text": [
      "True Positives: 10\n",
      "True Negatives: 83\n",
      "False Positives: 10\n",
      "False Negatives: 0\n",
      "Accuarcy: 0.9029126213592233\n",
      "Precision: 0.5\n",
      "Recall: 1.0\n"
     ]
    }
   ],
   "source": [
    "print(\"True Positives:\", JunaidJamshed_results[0])\n",
    "print(\"True Negatives:\", JunaidJamshed_results[1])\n",
    "print(\"False Positives:\", JunaidJamshed_results[2])\n",
    "print(\"False Negatives:\", JunaidJamshed_results[3])\n",
    "\n",
    "JunaidJamshed_score = evaluate(JunaidJamshed_results[0], JunaidJamshed_results[1], JunaidJamshed_results[2], JunaidJamshed_results[3])"
   ]
  },
  {
   "cell_type": "markdown",
   "metadata": {},
   "source": [
    "- Mark Zuckerberg"
   ]
  },
  {
   "cell_type": "code",
   "execution_count": 64,
   "metadata": {},
   "outputs": [],
   "source": [
    "test_image = r'C://Users//UZIMA//OneDrive//Desktop//Final Face Recognition Parwaaz//face-recognition//test_dataset//MarkZuckerberg//MarkZuckerberg_1.jpg'\n",
    "train_dir_path = r'C://Users//UZIMA//OneDrive//Desktop//Final Face Recognition Parwaaz//face-recognition//test_dataset//MarkZuckerberg'\n",
    "MarkZuckerberg_results = test_images(test_image, train_dir_path, test_dataset_path,\"MarkZuckerberg\")"
   ]
  },
  {
   "cell_type": "code",
   "execution_count": 66,
   "metadata": {},
   "outputs": [
    {
     "name": "stdout",
     "output_type": "stream",
     "text": [
      "True Positives: 9\n",
      "True Negatives: 83\n",
      "False Positives: 9\n",
      "False Negatives: 1\n",
      "Accuarcy: 0.9019607843137255\n",
      "Precision: 0.5\n",
      "Recall: 0.9\n"
     ]
    }
   ],
   "source": [
    "print(\"True Positives:\", MarkZuckerberg_results[0])\n",
    "print(\"True Negatives:\", MarkZuckerberg_results[1])\n",
    "print(\"False Positives:\", MarkZuckerberg_results[2])\n",
    "print(\"False Negatives:\", MarkZuckerberg_results[3])\n",
    "\n",
    "MarkZuckerberg_score = evaluate(MarkZuckerberg_results[0], MarkZuckerberg_results[1], MarkZuckerberg_results[2], MarkZuckerberg_results[3])"
   ]
  },
  {
   "cell_type": "markdown",
   "metadata": {},
   "source": [
    "- Sania Mirza"
   ]
  },
  {
   "cell_type": "code",
   "execution_count": 65,
   "metadata": {},
   "outputs": [],
   "source": [
    "test_image = r'C://Users//UZIMA//OneDrive//Desktop//Final Face Recognition Parwaaz//face-recognition//test_dataset//SaniaMirza//SaniaMirza_1.jpg'\n",
    "train_dir_path = r'C://Users//UZIMA//OneDrive//Desktop//Final Face Recognition Parwaaz//face-recognition//test_dataset//SaniaMirza'\n",
    "SaniaMirza_results = test_images(test_image, train_dir_path, test_dataset_path,\"SaniaMirza\")"
   ]
  },
  {
   "cell_type": "code",
   "execution_count": 67,
   "metadata": {},
   "outputs": [
    {
     "name": "stdout",
     "output_type": "stream",
     "text": [
      "True Positives: 10\n",
      "True Negatives: 81\n",
      "False Positives: 10\n",
      "False Negatives: 0\n",
      "Accuarcy: 0.900990099009901\n",
      "Precision: 0.5\n",
      "Recall: 1.0\n"
     ]
    }
   ],
   "source": [
    "print(\"True Positives:\", SaniaMirza_results[0])\n",
    "print(\"True Negatives:\", SaniaMirza_results[1])\n",
    "print(\"False Positives:\", SaniaMirza_results[2])\n",
    "print(\"False Negatives:\", SaniaMirza_results[3])\n",
    "\n",
    "SaniaMirza_score = evaluate(SaniaMirza_results[0], SaniaMirza_results[1], SaniaMirza_results[2], SaniaMirza_results[3])"
   ]
  },
  {
   "cell_type": "markdown",
   "metadata": {},
   "source": [
    "- Uzair Khoso"
   ]
  },
  {
   "cell_type": "code",
   "execution_count": 68,
   "metadata": {},
   "outputs": [],
   "source": [
    "test_image = r'C://Users//UZIMA//OneDrive//Desktop//Final Face Recognition Parwaaz//face-recognition//test_dataset//uk04348//uk04348_1.jpeg'\n",
    "train_dir_path = r'C://Users//UZIMA//OneDrive//Desktop//Final Face Recognition Parwaaz//face-recognition//test_dataset//uk04348'\n",
    "uk04348_results = test_images(test_image, train_dir_path, test_dataset_path,\"uk04348\")"
   ]
  },
  {
   "cell_type": "code",
   "execution_count": 69,
   "metadata": {},
   "outputs": [
    {
     "name": "stdout",
     "output_type": "stream",
     "text": [
      "True Positives: 6\n",
      "True Negatives: 87\n",
      "False Positives: 6\n",
      "False Negatives: 0\n",
      "Accuarcy: 0.9393939393939394\n",
      "Precision: 0.5\n",
      "Recall: 1.0\n"
     ]
    }
   ],
   "source": [
    "print(\"True Positives:\", uk04348_results[0])\n",
    "print(\"True Negatives:\", uk04348_results[1])\n",
    "print(\"False Positives:\", uk04348_results[2])\n",
    "print(\"False Negatives:\", uk04348_results[3])\n",
    "\n",
    "uk04348_score = evaluate(uk04348_results[0], uk04348_results[1], uk04348_results[2], uk04348_results[3])"
   ]
  },
  {
   "cell_type": "markdown",
   "metadata": {},
   "source": [
    "## Final Results"
   ]
  },
  {
   "cell_type": "code",
   "execution_count": 73,
   "metadata": {},
   "outputs": [
    {
     "name": "stdout",
     "output_type": "stream",
     "text": [
      "['ah04318', 'BenazirBhutto', 'ElonMusk', 'hi05466', 'ImranKhan', 'JunaidJamshed', 'MarkZuckerberg', 'nm05153', 'SaniaMirza', 'uk04348']\n"
     ]
    }
   ],
   "source": [
    "people = []\n",
    "for root, subdirectories, files in os.walk(test_dataset_path):\n",
    "    people = subdirectories\n",
    "    # print(subdirectories)\n",
    "    break\n",
    "print(people)"
   ]
  },
  {
   "cell_type": "code",
   "execution_count": 76,
   "metadata": {},
   "outputs": [
    {
     "name": "stdout",
     "output_type": "stream",
     "text": [
      "[(10, 83, 10, 0, ['True', 'True', 'True', 'True', 'True', 'True', 'True', 'True', 'True', 'True'], ['False', 'False', 'False', 'False', 'False', 'False', 'False', 'False', 'False', 'False', 'False', 'False', 'False', 'False', 'False', 'False', 'False', 'False', 'False', 'False', 'False', 'False', 'False', 'False', 'False', 'False', 'False', 'False', 'False', 'False', 'False', 'False', 'False', 'False', 'False', 'False', 'False', 'False', 'False', 'False', 'False', 'False', 'False', 'False', 'False', 'False', 'False', 'False', 'False', 'False', 'False', 'False', 'False', 'False', 'False', 'False', 'False', 'False', 'False', 'False', 'False', 'False', 'False', 'False', 'False', 'False', 'False', 'False', 'False', 'False', 'False', 'False', 'False', 'False', 'False', 'False', 'False', 'False', 'False', 'False', 'False', 'False', 'False']), (9, 83, 9, 1, ['True', 'True', 'False', 'True', 'True', 'True', 'True', 'True', 'True', 'True'], ['False', 'False', 'False', 'False', 'False', 'False', 'False', 'False', 'False', 'False', 'False', 'False', 'False', 'False', 'False', 'False', 'False', 'False', 'False', 'False', 'False', 'False', 'False', 'False', 'False', 'False', 'False', 'False', 'False', 'False', 'False', 'False', 'False', 'False', 'False', 'False', 'False', 'False', 'False', 'False', 'False', 'False', 'False', 'False', 'False', 'False', 'False', 'False', 'False', 'False', 'False', 'False', 'False', 'False', 'False', 'False', 'False', 'False', 'False', 'False', 'False', 'False', 'False', 'False', 'False', 'False', 'False', 'False', 'False', 'False', 'False', 'False', 'False', 'False', 'False', 'False', 'False', 'False', 'False', 'False', 'False', 'False', 'False']), (10, 83, 10, 0, ['True', 'True', 'True', 'True', 'True', 'True', 'True', 'True', 'True', 'True'], ['False', 'False', 'False', 'False', 'False', 'False', 'False', 'False', 'False', 'False', 'False', 'False', 'False', 'False', 'False', 'False', 'False', 'False', 'False', 'False', 'False', 'False', 'False', 'False', 'False', 'False', 'False', 'False', 'False', 'False', 'False', 'False', 'False', 'False', 'False', 'False', 'False', 'False', 'False', 'False', 'False', 'False', 'False', 'False', 'False', 'False', 'False', 'False', 'False', 'False', 'False', 'False', 'False', 'False', 'False', 'False', 'False', 'False', 'False', 'False', 'False', 'False', 'False', 'False', 'False', 'False', 'False', 'False', 'False', 'False', 'False', 'False', 'False', 'False', 'False', 'False', 'False', 'False', 'False', 'False', 'False', 'False', 'False']), (10, 83, 10, 0, ['True', 'True', 'True', 'True', 'True', 'True', 'True', 'True', 'True', 'True'], ['False', 'False', 'False', 'False', 'False', 'False', 'False', 'False', 'False', 'False', 'False', 'False', 'False', 'False', 'False', 'False', 'False', 'False', 'False', 'False', 'False', 'False', 'False', 'False', 'False', 'False', 'False', 'False', 'False', 'False', 'False', 'False', 'False', 'False', 'False', 'False', 'False', 'False', 'False', 'False', 'False', 'False', 'False', 'False', 'False', 'False', 'False', 'False', 'False', 'False', 'False', 'False', 'False', 'False', 'False', 'False', 'False', 'False', 'False', 'False', 'False', 'False', 'False', 'False', 'False', 'False', 'False', 'False', 'False', 'False', 'False', 'False', 'False', 'False', 'False', 'False', 'False', 'False', 'False', 'False', 'False', 'False', 'False']), (7, 85, 7, 0, ['True', 'True', 'True', 'True', 'True', 'True', 'True'], ['False', 'False', 'False', 'False', 'False', 'False', 'False', 'False', 'False', 'False', 'False', 'False', 'False', 'False', 'False', 'False', 'False', 'False', 'False', 'False', 'False', 'False', 'False', 'False', 'False', 'False', 'False', 'False', 'False', 'False', 'False', 'False', 'False', 'False', 'False', 'False', 'False', 'False', 'False', 'False', 'False', 'False', 'False', 'False', 'False', 'False', 'False', 'False', 'False', 'False', 'False', 'False', 'False', 'False', 'False', 'False', 'False', 'True', 'False', 'False', 'False', 'False', 'False', 'False', 'False', 'False', 'False', 'False', 'False', 'False', 'False', 'False', 'False', 'False', 'False', 'False', 'False', 'False', 'False', 'False', 'False', 'False', 'False', 'False', 'False', 'False']), (10, 83, 10, 0, ['True', 'True', 'True', 'True', 'True', 'True', 'True', 'True', 'True', 'True'], ['False', 'False', 'False', 'False', 'False', 'False', 'False', 'False', 'False', 'False', 'False', 'False', 'False', 'False', 'False', 'False', 'False', 'False', 'False', 'False', 'False', 'False', 'False', 'False', 'False', 'False', 'False', 'False', 'False', 'False', 'False', 'False', 'False', 'False', 'False', 'False', 'False', 'False', 'False', 'False', 'False', 'False', 'False', 'False', 'False', 'False', 'False', 'False', 'False', 'False', 'False', 'False', 'False', 'False', 'False', 'False', 'False', 'False', 'False', 'False', 'False', 'False', 'False', 'False', 'False', 'False', 'False', 'False', 'False', 'False', 'False', 'False', 'False', 'False', 'False', 'False', 'False', 'False', 'False', 'False', 'False', 'False', 'False']), (9, 83, 9, 1, ['True', 'True', 'True', 'True', 'True', 'True', 'True', 'False', 'True', 'True'], ['False', 'False', 'False', 'False', 'False', 'False', 'False', 'False', 'False', 'False', 'False', 'False', 'False', 'False', 'False', 'False', 'False', 'False', 'False', 'False', 'False', 'False', 'False', 'False', 'False', 'False', 'False', 'False', 'False', 'False', 'False', 'False', 'False', 'False', 'False', 'False', 'False', 'False', 'False', 'False', 'False', 'False', 'False', 'False', 'False', 'False', 'False', 'False', 'False', 'False', 'False', 'False', 'False', 'False', 'False', 'False', 'False', 'False', 'False', 'False', 'False', 'False', 'False', 'False', 'False', 'False', 'False', 'False', 'False', 'False', 'False', 'False', 'False', 'False', 'False', 'False', 'False', 'False', 'False', 'False', 'False', 'False', 'False']), (10, 83, 10, 0, ['True', 'True', 'True', 'True', 'True', 'True', 'True', 'True', 'True', 'True'], ['False', 'False', 'False', 'False', 'False', 'False', 'False', 'False', 'False', 'False', 'False', 'False', 'False', 'False', 'False', 'False', 'False', 'False', 'False', 'False', 'False', 'False', 'False', 'False', 'False', 'False', 'False', 'False', 'False', 'False', 'False', 'False', 'False', 'False', 'False', 'False', 'False', 'False', 'False', 'False', 'False', 'False', 'False', 'False', 'False', 'False', 'False', 'False', 'False', 'False', 'False', 'False', 'False', 'False', 'False', 'False', 'False', 'False', 'False', 'False', 'False', 'False', 'False', 'False', 'False', 'False', 'False', 'False', 'False', 'False', 'False', 'False', 'False', 'False', 'False', 'False', 'False', 'False', 'False', 'False', 'False', 'False', 'False']), (10, 81, 10, 0, ['True', 'True', 'True', 'True', 'True', 'True', 'True', 'True', 'True', 'True'], ['False', 'False', 'True', 'True', 'False', 'False', 'False', 'False', 'False', 'False', 'False', 'False', 'False', 'False', 'False', 'False', 'False', 'False', 'False', 'False', 'False', 'False', 'False', 'False', 'False', 'False', 'False', 'False', 'False', 'False', 'False', 'False', 'False', 'False', 'False', 'False', 'False', 'False', 'False', 'False', 'False', 'False', 'False', 'False', 'False', 'False', 'False', 'False', 'False', 'False', 'False', 'False', 'False', 'False', 'False', 'False', 'False', 'False', 'False', 'False', 'False', 'False', 'False', 'False', 'False', 'False', 'False', 'False', 'False', 'False', 'False', 'False', 'False', 'False', 'False', 'False', 'False', 'False', 'False', 'False', 'False', 'False', 'False']), (6, 87, 6, 0, ['True', 'True', 'True', 'True', 'True', 'True'], ['False', 'False', 'False', 'False', 'False', 'False', 'False', 'False', 'False', 'False', 'False', 'False', 'False', 'False', 'False', 'False', 'False', 'False', 'False', 'False', 'False', 'False', 'False', 'False', 'False', 'False', 'False', 'False', 'False', 'False', 'False', 'False', 'False', 'False', 'False', 'False', 'False', 'False', 'False', 'False', 'False', 'False', 'False', 'False', 'False', 'False', 'False', 'False', 'False', 'False', 'False', 'False', 'False', 'False', 'False', 'False', 'False', 'False', 'False', 'False', 'False', 'False', 'False', 'False', 'False', 'False', 'False', 'False', 'False', 'False', 'False', 'False', 'False', 'False', 'False', 'False', 'False', 'False', 'False', 'False', 'False', 'False', 'False', 'False', 'False', 'False', 'False'])]\n"
     ]
    }
   ],
   "source": [
    "people_results = [ah04318_results, BenazirBhutto_results, ElonMusk_results, hi05466_results, imrankhan_results, JunaidJamshed_results, MarkZuckerberg_results, nm05153_results, SaniaMirza_results, uk04348_results ]\n",
    "print(people_results)"
   ]
  },
  {
   "cell_type": "code",
   "execution_count": 78,
   "metadata": {},
   "outputs": [
    {
     "data": {
      "text/plain": [
       "[(0.9029126213592233, 0.5, 1.0),\n",
       " (0.9019607843137255, 0.5, 0.9),\n",
       " (0.9029126213592233, 0.5, 1.0),\n",
       " (0.9029126213592233, 0.5, 1.0),\n",
       " (0.9292929292929293, 0.5, 1.0),\n",
       " (0.9029126213592233, 0.5, 1.0),\n",
       " (0.9019607843137255, 0.5, 0.9),\n",
       " (0.9029126213592233, 0.5, 1.0),\n",
       " (0.900990099009901, 0.5, 1.0),\n",
       " (0.9393939393939394, 0.5, 1.0)]"
      ]
     },
     "execution_count": 78,
     "metadata": {},
     "output_type": "execute_result"
    }
   ],
   "source": [
    "people_scores = [ah04318_score, BenazirBhutto_score, ElonMusk_score, hi05466_score, imran_score, JunaidJamshed_score, MarkZuckerberg_score, nm05153_score, SaniaMirza_score, uk04348_score ]\n",
    "people_scores"
   ]
  },
  {
   "cell_type": "code",
   "execution_count": 92,
   "metadata": {},
   "outputs": [
    {
     "name": "stdout",
     "output_type": "stream",
     "text": [
      "Mean Accuracy: 0.9088161643120338\n",
      "Mean Precision: 0.5\n",
      "Mean Recall: 0.9800000000000001\n"
     ]
    }
   ],
   "source": [
    "accuracy = 0\n",
    "precision = 0\n",
    "recall = 0\n",
    "\n",
    "accuracy_lst = []\n",
    "precision_lst = []\n",
    "recall_lst = []\n",
    "\n",
    "for i in people_scores:\n",
    "    accuracy += i[0]\n",
    "    accuracy_lst.append(i[0])\n",
    "    precision += i[1]\n",
    "    precision_lst.append(i[1])\n",
    "    recall += i[2]\n",
    "    recall_lst.append(i[2])\n",
    "\n",
    "mean_accuracy = accuracy/len(people_scores)\n",
    "mean_precision = precision/len(people_scores)\n",
    "mean_recall = recall/len(people_scores)\n",
    "\n",
    "print(\"Mean Accuracy:\", mean_accuracy)\n",
    "print(\"Mean Precision:\", mean_precision)\n",
    "print(\"Mean Recall:\", mean_recall)"
   ]
  },
  {
   "cell_type": "code",
   "execution_count": 86,
   "metadata": {},
   "outputs": [
    {
     "name": "stdout",
     "output_type": "stream",
     "text": [
      "[10, 9, 10, 10, 7, 10, 9, 10, 10, 6]\n",
      "[83, 83, 83, 83, 85, 83, 83, 83, 81, 87]\n",
      "[10, 9, 10, 10, 7, 10, 9, 10, 10, 6]\n",
      "[0, 1, 0, 0, 0, 0, 1, 0, 0, 0]\n"
     ]
    }
   ],
   "source": [
    "tp_list = []\n",
    "tn_list = []\n",
    "fp_list = []\n",
    "fn_list = []\n",
    "\n",
    "for i in people_results:\n",
    "    tp_list.append(i[0])\n",
    "    tn_list.append(i[1])\n",
    "    fp_list.append(i[2])\n",
    "    fn_list.append(i[3])\n",
    "\n",
    "print(tp_list)\n",
    "print(tn_list)\n",
    "print(fp_list)\n",
    "print(fn_list)"
   ]
  },
  {
   "cell_type": "markdown",
   "metadata": {},
   "source": [
    "## Visualizations"
   ]
  },
  {
   "cell_type": "code",
   "execution_count": 84,
   "metadata": {},
   "outputs": [],
   "source": [
    "import numpy as np\n",
    "import matplotlib.pyplot as plt"
   ]
  },
  {
   "cell_type": "code",
   "execution_count": 91,
   "metadata": {},
   "outputs": [
    {
     "data": {
      "image/png": "[encoded data removed]",
      "text/plain": [
       "<Figure size 864x576 with 1 Axes>"
      ]
     },
     "metadata": {
      "needs_background": "light"
     },
     "output_type": "display_data"
    }
   ],
   "source": [
    "# set width of bar\n",
    "barWidth = 0.25\n",
    "fig = plt.subplots(figsize =(12, 8))\n",
    "\n",
    "# Set position of bar on X axis\n",
    "br1 = np.arange(len(fp_list))\n",
    "br2 = [x + barWidth for x in br1]\n",
    "br3 = [x + barWidth for x in br2]\n",
    "br4 = [x + barWidth for x in br3]\n",
    "\n",
    "# Make the plot\n",
    "plt.bar(br1, tp_list, color ='r', width = barWidth,\n",
    "\t\tedgecolor ='grey', label ='True Positives')\n",
    "plt.bar(br2, tn_list, color ='g', width = barWidth,\n",
    "\t\tedgecolor ='grey', label ='True Negatives')\n",
    "plt.bar(br3, fp_list, color ='b', width = barWidth,\n",
    "\t\tedgecolor ='grey', label ='False Positives')\n",
    "plt.bar(br3, fn_list, color ='pink', width = barWidth,\n",
    "\t\tedgecolor ='grey', label ='False Negatives')\n",
    "\n",
    "# Adding Xticks\n",
    "plt.xlabel('Names', fontweight ='bold', fontsize = 15)\n",
    "plt.ylabel('Scores', fontweight ='bold', fontsize = 15)\n",
    "plt.xticks([r + barWidth for r in range(len(people))], people)\n",
    "plt.xticks(rotation = 45) # Rotates X-Axis Ticks by 45-degrees\n",
    "\n",
    "plt.legend()\n",
    "plt.show()\n"
   ]
  },
  {
   "cell_type": "code",
   "execution_count": 93,
   "metadata": {},
   "outputs": [
    {
     "data": {
      "image/png": "[encoded data removed]",
      "text/plain": [
       "<Figure size 864x576 with 1 Axes>"
      ]
     },
     "metadata": {
      "needs_background": "light"
     },
     "output_type": "display_data"
    }
   ],
   "source": [
    "# set width of bar\n",
    "barWidth = 0.25\n",
    "fig = plt.subplots(figsize =(12, 8))\n",
    "\n",
    "# Set position of bar on X axis\n",
    "br1 = np.arange(len(fp_list))\n",
    "br2 = [x + barWidth for x in br1]\n",
    "br3 = [x + barWidth for x in br2]\n",
    "\n",
    "# Make the plot\n",
    "plt.bar(br1, accuracy_lst, color ='r', width = barWidth,\n",
    "\t\tedgecolor ='grey', label ='Accuracy')\n",
    "plt.bar(br2, precision_lst, color ='g', width = barWidth,\n",
    "\t\tedgecolor ='grey', label ='Presicion')\n",
    "plt.bar(br3, recall_lst, color ='b', width = barWidth,\n",
    "\t\tedgecolor ='grey', label ='Recall')\n",
    "\n",
    "# Adding Xticks\n",
    "plt.xlabel('Names', fontweight ='bold', fontsize = 15)\n",
    "plt.ylabel('Evaluation meteric results', fontweight ='bold', fontsize = 15)\n",
    "plt.xticks([r + barWidth for r in range(len(people))], people)\n",
    "plt.xticks(rotation = 45) # Rotates X-Axis Ticks by 45-degrees\n",
    "\n",
    "plt.legend()\n",
    "plt.show()\n"
   ]
  }
 ],
 "metadata": {
  "interpreter": {
   "hash": "678bbf9067cf72944330cdc1819229443140f4221342b3c1df7fbe258fbfa20f"
  },
  "kernelspec": {
   "display_name": "Python 3.7.13 ('face-recognition')",
   "language": "python",
   "name": "python3"
  },
  "language_info": {
   "codemirror_mode": {
    "name": "ipython",
    "version": 3
   },
   "file_extension": ".py",
   "mimetype": "text/x-python",
   "name": "python",
   "nbconvert_exporter": "python",
   "pygments_lexer": "ipython3",
   "version": "3.7.13"
  },
  "orig_nbformat": 4
 },
 "nbformat": 4,
 "nbformat_minor": 2
}
